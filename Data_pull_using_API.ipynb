{
 "cells": [
  {
   "cell_type": "markdown",
   "metadata": {},
   "source": [
    "## Data pull using API"
   ]
  },
  {
   "cell_type": "markdown",
   "metadata": {},
   "source": [
    "### Usage metrics\n",
    "Includes downloads, uploads, re-downloads, returns"
   ]
  },
  {
   "cell_type": "code",
   "execution_count": 2,
   "metadata": {},
   "outputs": [],
   "source": [
    "import getpass\n",
    "#Getting the schema name\n",
    "import os\n",
    "import sys"
   ]
  },
  {
   "cell_type": "code",
   "execution_count": 3,
   "metadata": {},
   "outputs": [],
   "source": [
    "import sys, os, time\n",
    "import pandas as pd\n",
    "import numpy as np\n",
    "import getpass\n",
    "from os.path import expanduser, join\n",
    "from datetime import datetime"
   ]
  },
  {
   "cell_type": "code",
   "execution_count": 4,
   "metadata": {},
   "outputs": [],
   "source": [
    "## python query to scrape data\n",
    "import requests\n",
    "import pprint\n",
    "import pandas as pd\n",
    "import os\n",
    "from datetime import date, timedelta"
   ]
  },
  {
   "cell_type": "code",
   "execution_count": 6,
   "metadata": {},
   "outputs": [],
   "source": [
    "## Defining the user and app key\n",
    "USERNAME = '' ## Enter valid username here\n",
    "PASSWORD = '' ## Enter password here\n",
    "APP_KEY = '' ## Enter app key\n",
    "BASE_URI = 'https://api.appfigures.com/v2/'"
   ]
  },
  {
   "cell_type": "code",
   "execution_count": 8,
   "metadata": {},
   "outputs": [
    {
     "name": "stdout",
     "output_type": "stream",
     "text": [
      "2018-11-10\n",
      "2018-11-26\n"
     ]
    }
   ],
   "source": [
    "## Defining dates to pull\n",
    "# start date\n",
    "st_dt = date.today()- timedelta(days=17)\n",
    "print (st_dt)\n",
    "# end date\n",
    "ed_dt = date.today()- timedelta(days=1)\n",
    "print (ed_dt)"
   ]
  },
  {
   "cell_type": "code",
   "execution_count": 9,
   "metadata": {},
   "outputs": [
    {
     "name": "stdout",
     "output_type": "stream",
     "text": [
      "200\n"
     ]
    }
   ],
   "source": [
    "## Request to pull data\n",
    "def make_request(uri, **querystring_params):\n",
    "    headers = {\"X-Client-Key\":APP_KEY}\n",
    "    auth = (USERNAME,PASSWORD)\n",
    "    return requests.get(BASE_URI + uri.lstrip(\"/\"),\n",
    "                        auth=auth,\n",
    "                        params=querystring_params,\n",
    "                        headers=headers)\n",
    "product_response = make_request(\"/reports/sales/products+dates?group_by=product,date&start_date=\"+str(st_dt)+\"&end_date=\"+str(ed_dt)+\"&granularity=daily\",countries=\"US\")\n",
    "print(product_response.status_code)\n",
    "assert 200 == product_response.status_code\n",
    "assert 0< len(product_response.json())"
   ]
  },
  {
   "cell_type": "code",
   "execution_count": 16,
   "metadata": {},
   "outputs": [
    {
     "name": "stdout",
     "output_type": "stream",
     "text": [
      "\n",
      "\n",
      "data pull done successfully\n"
     ]
    }
   ],
   "source": [
    "a = product_response.json().keys()\n",
    "\n",
    "## Getting the required data \n",
    "dict = {'downloads': [], 'product_id':[], 'updates': [], 're_downloads': [], 'date':[], 'returns': [], 'promos': []}\n",
    "column = ['downloads','product_id', 'updates', 're_downloads', 'date', 'returns', 'promos']\n",
    "print('\\n')\n",
    "for i in a:\n",
    "\n",
    "    for key, value in product_response.json().get(i).items():\n",
    "        # print(key)\n",
    "        for k, v in product_response.json().get(i).get(key).items():\n",
    "            # print(k)\n",
    "            if k in column:\n",
    "                dict.get(k).append(product_response.json().get(i).get(key).get(k))\n",
    "\n",
    "\n",
    "df=pd.DataFrame(dict)\n",
    "#df.to_csv(\"appTest.csv\")\n",
    "#os.system(\"start appTest.csv\")\n",
    "print(\"data pull done successfully\")\n"
   ]
  },
  {
   "cell_type": "code",
   "execution_count": 20,
   "metadata": {},
   "outputs": [
    {
     "data": {
      "text/html": [
       "<div>\n",
       "<style scoped>\n",
       "    .dataframe tbody tr th:only-of-type {\n",
       "        vertical-align: middle;\n",
       "    }\n",
       "\n",
       "    .dataframe tbody tr th {\n",
       "        vertical-align: top;\n",
       "    }\n",
       "\n",
       "    .dataframe thead th {\n",
       "        text-align: right;\n",
       "    }\n",
       "</style>\n",
       "<table border=\"1\" class=\"dataframe\">\n",
       "  <thead>\n",
       "    <tr style=\"text-align: right;\">\n",
       "      <th></th>\n",
       "      <th>downloads</th>\n",
       "      <th>product_id</th>\n",
       "      <th>updates</th>\n",
       "      <th>re_downloads</th>\n",
       "      <th>date</th>\n",
       "      <th>returns</th>\n",
       "      <th>promos</th>\n",
       "    </tr>\n",
       "  </thead>\n",
       "  <tbody>\n",
       "    <tr>\n",
       "      <th>0</th>\n",
       "      <td>6996</td>\n",
       "      <td>5545042</td>\n",
       "      <td>18909</td>\n",
       "      <td>0</td>\n",
       "      <td>2018-11-10</td>\n",
       "      <td>0</td>\n",
       "      <td>0</td>\n",
       "    </tr>\n",
       "    <tr>\n",
       "      <th>1</th>\n",
       "      <td>4487</td>\n",
       "      <td>5545042</td>\n",
       "      <td>15160</td>\n",
       "      <td>0</td>\n",
       "      <td>2018-11-11</td>\n",
       "      <td>0</td>\n",
       "      <td>0</td>\n",
       "    </tr>\n",
       "    <tr>\n",
       "      <th>2</th>\n",
       "      <td>3824</td>\n",
       "      <td>5545042</td>\n",
       "      <td>11954</td>\n",
       "      <td>0</td>\n",
       "      <td>2018-11-12</td>\n",
       "      <td>0</td>\n",
       "      <td>0</td>\n",
       "    </tr>\n",
       "    <tr>\n",
       "      <th>3</th>\n",
       "      <td>3306</td>\n",
       "      <td>5545042</td>\n",
       "      <td>9956</td>\n",
       "      <td>0</td>\n",
       "      <td>2018-11-13</td>\n",
       "      <td>0</td>\n",
       "      <td>0</td>\n",
       "    </tr>\n",
       "    <tr>\n",
       "      <th>4</th>\n",
       "      <td>3069</td>\n",
       "      <td>5545042</td>\n",
       "      <td>8789</td>\n",
       "      <td>0</td>\n",
       "      <td>2018-11-14</td>\n",
       "      <td>0</td>\n",
       "      <td>0</td>\n",
       "    </tr>\n",
       "  </tbody>\n",
       "</table>\n",
       "</div>"
      ],
      "text/plain": [
       "   downloads  product_id  updates  re_downloads        date  returns  promos\n",
       "0       6996     5545042    18909             0  2018-11-10        0       0\n",
       "1       4487     5545042    15160             0  2018-11-11        0       0\n",
       "2       3824     5545042    11954             0  2018-11-12        0       0\n",
       "3       3306     5545042     9956             0  2018-11-13        0       0\n",
       "4       3069     5545042     8789             0  2018-11-14        0       0"
      ]
     },
     "execution_count": 20,
     "metadata": {},
     "output_type": "execute_result"
    }
   ],
   "source": [
    "df.head()"
   ]
  },
  {
   "cell_type": "markdown",
   "metadata": {},
   "source": [
    "## To get reviews for app"
   ]
  },
  {
   "cell_type": "code",
   "execution_count": 21,
   "metadata": {},
   "outputs": [],
   "source": [
    "from datetime import date, timedelta\n",
    "date = date.today()- timedelta(days=30)\n",
    "#ed_dt= date.today()- timedelta(days=7)\n",
    "## defining the cols\n",
    "columns = ['review','date','author','product_id','product_name','title','store','stars','version']\n",
    "#columnsDict = {'review':[], 'date':[], 'author':[], 'product_id':[], 'product_name':[], 'title':[], 'store':[], 'stars':[], 'version':[]}\n",
    "columnsDict = {col: [] for col in columns}"
   ]
  },
  {
   "cell_type": "code",
   "execution_count": 24,
   "metadata": {
    "scrolled": true
   },
   "outputs": [
    {
     "name": "stdout",
     "output_type": "stream",
     "text": [
      "200\n",
      "2018-10-29\n",
      "200\n",
      "2018-10-30\n",
      "200\n",
      "2018-10-31\n",
      "200\n",
      "2018-11-01\n",
      "200\n",
      "2018-11-02\n",
      "200\n",
      "2018-11-03\n",
      "200\n",
      "2018-11-04\n",
      "200\n",
      "2018-11-05\n",
      "200\n",
      "2018-11-06\n",
      "200\n",
      "2018-11-07\n",
      "200\n",
      "2018-11-08\n",
      "200\n",
      "2018-11-09\n",
      "200\n",
      "2018-11-10\n",
      "200\n",
      "2018-11-11\n",
      "200\n",
      "2018-11-12\n",
      "200\n",
      "2018-11-13\n",
      "200\n",
      "2018-11-14\n",
      "200\n",
      "2018-11-15\n",
      "200\n",
      "2018-11-16\n",
      "200\n",
      "2018-11-17\n",
      "200\n",
      "2018-11-18\n",
      "200\n",
      "2018-11-19\n",
      "200\n",
      "2018-11-20\n",
      "200\n",
      "2018-11-21\n",
      "200\n",
      "2018-11-22\n",
      "200\n",
      "2018-11-23\n",
      "200\n",
      "2018-11-24\n",
      "200\n",
      "2018-11-25\n",
      "200\n",
      "2018-11-26\n",
      "200\n",
      "2018-11-27\n",
      "data pull done successfully\n"
     ]
    }
   ],
   "source": [
    "for i in range(30): \n",
    "    date += datetime.timedelta(days=1)\n",
    "    #print(str(date)) \n",
    "\n",
    "    product_response = make_request(\"/reviews?start=\"+str(date)+\"&end=\"+str(date)+\"&products=5999626,5552993,41330869662,280009601059,42844183382,280002842371,280009913838,212140401\",countries=\"US\")\n",
    "    print(product_response.status_code)\n",
    "    assert 200 == product_response.status_code\n",
    "    assert 0< len(product_response.json())\n",
    "\n",
    "    for k in product_response.json().get('reviews'):\n",
    "                #print(pprint.pprint(k.get('review')))\n",
    "                for i in columns:\n",
    "                    columnsDict.get(i).append(k.get(i))\n",
    "    print(date)\n",
    "\n",
    "print(\"data pull done successfully\")\n",
    "df=pd.DataFrame(columnsDict)"
   ]
  },
  {
   "cell_type": "code",
   "execution_count": 26,
   "metadata": {},
   "outputs": [
    {
     "data": {
      "text/html": [
       "<div>\n",
       "<style scoped>\n",
       "    .dataframe tbody tr th:only-of-type {\n",
       "        vertical-align: middle;\n",
       "    }\n",
       "\n",
       "    .dataframe tbody tr th {\n",
       "        vertical-align: top;\n",
       "    }\n",
       "\n",
       "    .dataframe thead th {\n",
       "        text-align: right;\n",
       "    }\n",
       "</style>\n",
       "<table border=\"1\" class=\"dataframe\">\n",
       "  <thead>\n",
       "    <tr style=\"text-align: right;\">\n",
       "      <th></th>\n",
       "      <th>review</th>\n",
       "      <th>date</th>\n",
       "      <th>author</th>\n",
       "      <th>product_id</th>\n",
       "      <th>product_name</th>\n",
       "      <th>title</th>\n",
       "      <th>store</th>\n",
       "      <th>stars</th>\n",
       "      <th>version</th>\n",
       "    </tr>\n",
       "  </thead>\n",
       "  <tbody>\n",
       "    <tr>\n",
       "      <th>0</th>\n",
       "      <td>So I just noticed they removed the ability to ...</td>\n",
       "      <td>2018-10-29T23:19:33</td>\n",
       "      <td>Nickjdunn</td>\n",
       "      <td>5999626</td>\n",
       "      <td>Walmart – Shopping and Saving</td>\n",
       "      <td>Removed Ability To Scan Receipts</td>\n",
       "      <td>apple</td>\n",
       "      <td>1.00</td>\n",
       "      <td>18.20</td>\n",
       "    </tr>\n",
       "    <tr>\n",
       "      <th>1</th>\n",
       "      <td>Help update rendered it useless I need to buy ...</td>\n",
       "      <td>2018-10-29T22:59:53</td>\n",
       "      <td>FaithfulH3arted</td>\n",
       "      <td>5999626</td>\n",
       "      <td>Walmart – Shopping and Saving</td>\n",
       "      <td>Great service</td>\n",
       "      <td>apple</td>\n",
       "      <td>1.00</td>\n",
       "      <td>18.20</td>\n",
       "    </tr>\n",
       "  </tbody>\n",
       "</table>\n",
       "</div>"
      ],
      "text/plain": [
       "                                              review                 date  \\\n",
       "0  So I just noticed they removed the ability to ...  2018-10-29T23:19:33   \n",
       "1  Help update rendered it useless I need to buy ...  2018-10-29T22:59:53   \n",
       "\n",
       "            author  product_id                   product_name  \\\n",
       "0        Nickjdunn     5999626  Walmart – Shopping and Saving   \n",
       "1  FaithfulH3arted     5999626  Walmart – Shopping and Saving   \n",
       "\n",
       "                              title  store stars version  \n",
       "0  Removed Ability To Scan Receipts  apple  1.00   18.20  \n",
       "1                     Great service  apple  1.00   18.20  "
      ]
     },
     "execution_count": 26,
     "metadata": {},
     "output_type": "execute_result"
    }
   ],
   "source": [
    "df.head(2)"
   ]
  }
 ],
 "metadata": {
  "kernelspec": {
   "display_name": "Python 3",
   "language": "python",
   "name": "python3"
  },
  "language_info": {
   "codemirror_mode": {
    "name": "ipython",
    "version": 3
   },
   "file_extension": ".py",
   "mimetype": "text/x-python",
   "name": "python",
   "nbconvert_exporter": "python",
   "pygments_lexer": "ipython3",
   "version": "3.6.5"
  }
 },
 "nbformat": 4,
 "nbformat_minor": 2
}
